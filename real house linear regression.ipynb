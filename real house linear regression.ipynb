{
 "cells": [
  {
   "cell_type": "code",
   "execution_count": 1,
   "id": "b78b16bb",
   "metadata": {},
   "outputs": [],
   "source": [
    "import numpy as np\n",
    "import pandas as pd\n",
    "from sklearn.model_selection import train_test_split\n",
    "from sklearn.linear_model import LinearRegression\n",
    "from sklearn.metrics import mean_squared_error\n",
    "import seaborn as sns\n",
    "import matplotlib.pyplot as plt\n",
    "from sklearn.metrics import mean_absolute_error"
   ]
  },
  {
   "cell_type": "code",
   "execution_count": 7,
   "id": "8faf4765",
   "metadata": {},
   "outputs": [],
   "source": [
    "data = pd.read_csv('Real estate.csv')\n",
    "X = df[[\"X1 transaction date\", \"X2 house age\", \"X3 distance to the nearest MRT station\", \"X4 number of convenience stores\",\"X5 latitude\",\"X6 longitude\"]]\n",
    "y = df[\"Y house price of unit area\"]"
   ]
  },
  {
   "cell_type": "code",
   "execution_count": 8,
   "id": "20bac986",
   "metadata": {},
   "outputs": [
    {
     "name": "stdout",
     "output_type": "stream",
     "text": [
      "First few rows of the dataset:\n",
      "   No  X1 transaction date  X2 house age  \\\n",
      "0   1             2012.917          32.0   \n",
      "1   2             2012.917          19.5   \n",
      "2   3             2013.583          13.3   \n",
      "3   4             2013.500          13.3   \n",
      "4   5             2012.833           5.0   \n",
      "\n",
      "   X3 distance to the nearest MRT station  X4 number of convenience stores  \\\n",
      "0                                84.87882                               10   \n",
      "1                               306.59470                                9   \n",
      "2                               561.98450                                5   \n",
      "3                               561.98450                                5   \n",
      "4                               390.56840                                5   \n",
      "\n",
      "   X5 latitude  X6 longitude  Y house price of unit area  \n",
      "0     24.98298     121.54024                        37.9  \n",
      "1     24.98034     121.53951                        42.2  \n",
      "2     24.98746     121.54391                        47.3  \n",
      "3     24.98746     121.54391                        54.8  \n",
      "4     24.97937     121.54245                        43.1  \n"
     ]
    }
   ],
   "source": [
    "# Display the first few rows of the dataset\n",
    "print(\"First few rows of the dataset:\")\n",
    "print(data.head())"
   ]
  },
  {
   "cell_type": "code",
   "execution_count": 9,
   "id": "b55bb859",
   "metadata": {},
   "outputs": [
    {
     "name": "stdout",
     "output_type": "stream",
     "text": [
      "\n",
      "Dataset shape: (414, 8)\n"
     ]
    }
   ],
   "source": [
    "# Check the shape of the dataset\n",
    "print(\"\\nDataset shape:\", data.shape)"
   ]
  },
  {
   "cell_type": "code",
   "execution_count": 10,
   "id": "1bae3280",
   "metadata": {},
   "outputs": [
    {
     "name": "stdout",
     "output_type": "stream",
     "text": [
      "\n",
      "Data types of columns:\n",
      "No                                          int64\n",
      "X1 transaction date                       float64\n",
      "X2 house age                              float64\n",
      "X3 distance to the nearest MRT station    float64\n",
      "X4 number of convenience stores             int64\n",
      "X5 latitude                               float64\n",
      "X6 longitude                              float64\n",
      "Y house price of unit area                float64\n",
      "dtype: object\n"
     ]
    }
   ],
   "source": [
    "# Check the data types of columns\n",
    "print(\"\\nData types of columns:\")\n",
    "print(data.dtypes)"
   ]
  },
  {
   "cell_type": "code",
   "execution_count": 11,
   "id": "ec89d00f",
   "metadata": {},
   "outputs": [
    {
     "name": "stdout",
     "output_type": "stream",
     "text": [
      "\n",
      "Summary statistics of numerical columns:\n",
      "               No  X1 transaction date  X2 house age  \\\n",
      "count  414.000000           414.000000    414.000000   \n",
      "mean   207.500000          2013.148971     17.712560   \n",
      "std    119.655756             0.281967     11.392485   \n",
      "min      1.000000          2012.667000      0.000000   \n",
      "25%    104.250000          2012.917000      9.025000   \n",
      "50%    207.500000          2013.167000     16.100000   \n",
      "75%    310.750000          2013.417000     28.150000   \n",
      "max    414.000000          2013.583000     43.800000   \n",
      "\n",
      "       X3 distance to the nearest MRT station  \\\n",
      "count                              414.000000   \n",
      "mean                              1083.885689   \n",
      "std                               1262.109595   \n",
      "min                                 23.382840   \n",
      "25%                                289.324800   \n",
      "50%                                492.231300   \n",
      "75%                               1454.279000   \n",
      "max                               6488.021000   \n",
      "\n",
      "       X4 number of convenience stores  X5 latitude  X6 longitude  \\\n",
      "count                       414.000000   414.000000    414.000000   \n",
      "mean                          4.094203    24.969030    121.533361   \n",
      "std                           2.945562     0.012410      0.015347   \n",
      "min                           0.000000    24.932070    121.473530   \n",
      "25%                           1.000000    24.963000    121.528085   \n",
      "50%                           4.000000    24.971100    121.538630   \n",
      "75%                           6.000000    24.977455    121.543305   \n",
      "max                          10.000000    25.014590    121.566270   \n",
      "\n",
      "       Y house price of unit area  \n",
      "count                  414.000000  \n",
      "mean                    37.980193  \n",
      "std                     13.606488  \n",
      "min                      7.600000  \n",
      "25%                     27.700000  \n",
      "50%                     38.450000  \n",
      "75%                     46.600000  \n",
      "max                    117.500000  \n"
     ]
    }
   ],
   "source": [
    "# Summary statistics\n",
    "print(\"\\nSummary statistics of numerical columns:\")\n",
    "print(data.describe())"
   ]
  },
  {
   "cell_type": "code",
   "execution_count": 12,
   "id": "193344a0",
   "metadata": {},
   "outputs": [
    {
     "name": "stdout",
     "output_type": "stream",
     "text": [
      "\n",
      "Missing values:\n",
      "No                                        0\n",
      "X1 transaction date                       0\n",
      "X2 house age                              0\n",
      "X3 distance to the nearest MRT station    0\n",
      "X4 number of convenience stores           0\n",
      "X5 latitude                               0\n",
      "X6 longitude                              0\n",
      "Y house price of unit area                0\n",
      "dtype: int64\n"
     ]
    }
   ],
   "source": [
    "# Check for missing values\n",
    "print(\"\\nMissing values:\")\n",
    "print(data.isnull().sum())"
   ]
  },
  {
   "cell_type": "code",
   "execution_count": 13,
   "id": "b8cbe14d",
   "metadata": {},
   "outputs": [
    {
     "data": {
      "image/png": "[encoded data removed]",
      "text/plain": [
       "<Figure size 600x400 with 1 Axes>"
      ]
     },
     "metadata": {},
     "output_type": "display_data"
    }
   ],
   "source": [
    "# Bar charts for 'age' feature\n",
    "plt.figure(figsize=(6, 4))\n",
    "sns.countplot(x='X2 house age', data=data)\n",
    "plt.title('Bar Chart of age')\n",
    "plt.show()"
   ]
  },
  {
   "cell_type": "code",
   "execution_count": 16,
   "id": "4a21e273",
   "metadata": {},
   "outputs": [
    {
     "data": {
      "text/plain": [
       "<Figure size 600x400 with 0 Axes>"
      ]
     },
     "metadata": {},
     "output_type": "display_data"
    },
    {
     "data": {
      "text/plain": [
       "<Figure size 600x400 with 0 Axes>"
      ]
     },
     "metadata": {},
     "output_type": "display_data"
    },
    {
     "data": {
      "text/plain": [
       "<Figure size 600x400 with 0 Axes>"
      ]
     },
     "metadata": {},
     "output_type": "display_data"
    },
    {
     "data": {
      "text/plain": [
       "<Figure size 600x400 with 0 Axes>"
      ]
     },
     "metadata": {},
     "output_type": "display_data"
    },
    {
     "data": {
      "text/plain": [
       "<Figure size 600x400 with 0 Axes>"
      ]
     },
     "metadata": {},
     "output_type": "display_data"
    },
    {
     "data": {
      "image/png": "[encoded data removed]",
      "text/plain": [
       "<Figure size 600x400 with 1 Axes>"
      ]
     },
     "metadata": {},
     "output_type": "display_data"
    }
   ],
   "source": [
    "# Visualize the continuous variables\n",
    "continuous_vars = [\"X1 transaction date\", \"X2 house age\", \"X3 distance to the nearest MRT station\", \"X4 number of convenience stores\",\"X5 latitude\",\"X6 longitude\"]\n",
    "for var in continuous_vars:plt.figure(figsize=(6, 4))\n",
    "sns.histplot(data[var], bins=10, kde=True)\n",
    "plt.title(f'Histogram of {var}')\n",
    "plt.show()"
   ]
  },
  {
   "cell_type": "code",
   "execution_count": 17,
   "id": "f3d334e9",
   "metadata": {},
   "outputs": [],
   "source": [
    "# Split the dataset into a training set and a test set\n",
    "X_train, X_test, y_train, y_test = train_test_split(X, y, test_size=0.4, random_state=42)"
   ]
  },
  {
   "cell_type": "code",
   "execution_count": 18,
   "id": "69c55e23",
   "metadata": {},
   "outputs": [
    {
     "data": {
      "text/html": [
       "<style>#sk-container-id-1 {color: black;}#sk-container-id-1 pre{padding: 0;}#sk-container-id-1 div.sk-toggleable {background-color: white;}#sk-container-id-1 label.sk-toggleable__label {cursor: pointer;display: block;width: 100%;margin-bottom: 0;padding: 0.3em;box-sizing: border-box;text-align: center;}#sk-container-id-1 label.sk-toggleable__label-arrow:before {content: \"▸\";float: left;margin-right: 0.25em;color: #696969;}#sk-container-id-1 label.sk-toggleable__label-arrow:hover:before {color: black;}#sk-container-id-1 div.sk-estimator:hover label.sk-toggleable__label-arrow:before {color: black;}#sk-container-id-1 div.sk-toggleable__content {max-height: 0;max-width: 0;overflow: hidden;text-align: left;background-color: #f0f8ff;}#sk-container-id-1 div.sk-toggleable__content pre {margin: 0.2em;color: black;border-radius: 0.25em;background-color: #f0f8ff;}#sk-container-id-1 input.sk-toggleable__control:checked~div.sk-toggleable__content {max-height: 200px;max-width: 100%;overflow: auto;}#sk-container-id-1 input.sk-toggleable__control:checked~label.sk-toggleable__label-arrow:before {content: \"▾\";}#sk-container-id-1 div.sk-estimator input.sk-toggleable__control:checked~label.sk-toggleable__label {background-color: #d4ebff;}#sk-container-id-1 div.sk-label input.sk-toggleable__control:checked~label.sk-toggleable__label {background-color: #d4ebff;}#sk-container-id-1 input.sk-hidden--visually {border: 0;clip: rect(1px 1px 1px 1px);clip: rect(1px, 1px, 1px, 1px);height: 1px;margin: -1px;overflow: hidden;padding: 0;position: absolute;width: 1px;}#sk-container-id-1 div.sk-estimator {font-family: monospace;background-color: #f0f8ff;border: 1px dotted black;border-radius: 0.25em;box-sizing: border-box;margin-bottom: 0.5em;}#sk-container-id-1 div.sk-estimator:hover {background-color: #d4ebff;}#sk-container-id-1 div.sk-parallel-item::after {content: \"\";width: 100%;border-bottom: 1px solid gray;flex-grow: 1;}#sk-container-id-1 div.sk-label:hover label.sk-toggleable__label {background-color: #d4ebff;}#sk-container-id-1 div.sk-serial::before {content: \"\";position: absolute;border-left: 1px solid gray;box-sizing: border-box;top: 0;bottom: 0;left: 50%;z-index: 0;}#sk-container-id-1 div.sk-serial {display: flex;flex-direction: column;align-items: center;background-color: white;padding-right: 0.2em;padding-left: 0.2em;position: relative;}#sk-container-id-1 div.sk-item {position: relative;z-index: 1;}#sk-container-id-1 div.sk-parallel {display: flex;align-items: stretch;justify-content: center;background-color: white;position: relative;}#sk-container-id-1 div.sk-item::before, #sk-container-id-1 div.sk-parallel-item::before {content: \"\";position: absolute;border-left: 1px solid gray;box-sizing: border-box;top: 0;bottom: 0;left: 50%;z-index: -1;}#sk-container-id-1 div.sk-parallel-item {display: flex;flex-direction: column;z-index: 1;position: relative;background-color: white;}#sk-container-id-1 div.sk-parallel-item:first-child::after {align-self: flex-end;width: 50%;}#sk-container-id-1 div.sk-parallel-item:last-child::after {align-self: flex-start;width: 50%;}#sk-container-id-1 div.sk-parallel-item:only-child::after {width: 0;}#sk-container-id-1 div.sk-dashed-wrapped {border: 1px dashed gray;margin: 0 0.4em 0.5em 0.4em;box-sizing: border-box;padding-bottom: 0.4em;background-color: white;}#sk-container-id-1 div.sk-label label {font-family: monospace;font-weight: bold;display: inline-block;line-height: 1.2em;}#sk-container-id-1 div.sk-label-container {text-align: center;}#sk-container-id-1 div.sk-container {/* jupyter's `normalize.less` sets `[hidden] { display: none; }` but bootstrap.min.css set `[hidden] { display: none !important; }` so we also need the `!important` here to be able to override the default hidden behavior on the sphinx rendered scikit-learn.org. See: https://github.com/scikit-learn/scikit-learn/issues/21755 */display: inline-block !important;position: relative;}#sk-container-id-1 div.sk-text-repr-fallback {display: none;}</style><div id=\"sk-container-id-1\" class=\"sk-top-container\"><div class=\"sk-text-repr-fallback\"><pre>LinearRegression()</pre><b>In a Jupyter environment, please rerun this cell to show the HTML representation or trust the notebook. <br />On GitHub, the HTML representation is unable to render, please try loading this page with nbviewer.org.</b></div><div class=\"sk-container\" hidden><div class=\"sk-item\"><div class=\"sk-estimator sk-toggleable\"><input class=\"sk-toggleable__control sk-hidden--visually\" id=\"sk-estimator-id-1\" type=\"checkbox\" checked><label for=\"sk-estimator-id-1\" class=\"sk-toggleable__label sk-toggleable__label-arrow\">LinearRegression</label><div class=\"sk-toggleable__content\"><pre>LinearRegression()</pre></div></div></div></div></div>"
      ],
      "text/plain": [
       "LinearRegression()"
      ]
     },
     "execution_count": 18,
     "metadata": {},
     "output_type": "execute_result"
    }
   ],
   "source": [
    "# Linear Regression model\n",
    "model = LinearRegression()\n",
    "model.fit(X_train, y_train)"
   ]
  },
  {
   "cell_type": "code",
   "execution_count": 21,
   "id": "77354556",
   "metadata": {},
   "outputs": [],
   "source": [
    "# Create new data point\n",
    "newdata = pd.DataFrame({\n",
    "\"X1 transaction date\": [2013.5],\n",
    "\"X2 house age\": [31.7],\n",
    "\"X3 distance to the nearest MRT station\": [5512.038],\n",
    "\"X4 number of convenience stores\": [1],\n",
    "\"X5 latitude\":[24.95095],\n",
    "\"X6 longitude\":[121.48458]})"
   ]
  },
  {
   "cell_type": "code",
   "execution_count": 22,
   "id": "d7e01ea5",
   "metadata": {},
   "outputs": [],
   "source": [
    "# Predictions on test set\n",
    "predictions = model.predict(X_test)"
   ]
  },
  {
   "cell_type": "code",
   "execution_count": 23,
   "id": "05279d2a",
   "metadata": {},
   "outputs": [
    {
     "name": "stdout",
     "output_type": "stream",
     "text": [
      "Root Mean Squared Error (RMSE): 8.060888781390297\n"
     ]
    }
   ],
   "source": [
    "# Calculate RMSE\n",
    "rmse = np.sqrt(mean_squared_error(y_test, predictions))\n",
    "print(\"Root Mean Squared Error (RMSE):\", rmse)"
   ]
  },
  {
   "cell_type": "code",
   "execution_count": 24,
   "id": "ed20bf27",
   "metadata": {},
   "outputs": [
    {
     "name": "stdout",
     "output_type": "stream",
     "text": [
      "Mean Squared Error (MSE): 64.97792794594393\n"
     ]
    }
   ],
   "source": [
    "# Display the Mean Squared Error (MSE)\n",
    "mse = mean_squared_error(y_test, predictions)\n",
    "print(\"Mean Squared Error (MSE):\", mse)"
   ]
  },
  {
   "cell_type": "code",
   "execution_count": 26,
   "id": "28f1ff2a",
   "metadata": {},
   "outputs": [
    {
     "name": "stdout",
     "output_type": "stream",
     "text": [
      "Mean Absolute Error (MAE): 5.807059379585069\n"
     ]
    }
   ],
   "source": [
    "# Calculate Mean Absolute Error (MAE)\n",
    "mae = mean_absolute_error(y_test, predictions)\n",
    "print(\"Mean Absolute Error (MAE):\", mae)"
   ]
  },
  {
   "cell_type": "code",
   "execution_count": null,
   "id": "07e26f19",
   "metadata": {},
   "outputs": [],
   "source": []
  }
 ],
 "metadata": {
  "kernelspec": {
   "display_name": "Python 3 (ipykernel)",
   "language": "python",
   "name": "python3"
  },
  "language_info": {
   "codemirror_mode": {
    "name": "ipython",
    "version": 3
   },
   "file_extension": ".py",
   "mimetype": "text/x-python",
   "name": "python",
   "nbconvert_exporter": "python",
   "pygments_lexer": "ipython3",
   "version": "3.11.5"
  }
 },
 "nbformat": 4,
 "nbformat_minor": 5
}
